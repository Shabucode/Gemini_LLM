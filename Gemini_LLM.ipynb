{
  "cells": [
    {
      "cell_type": "code",
      "execution_count": null,
      "metadata": {
        "colab": {
          "base_uri": "https://localhost:8080/",
          "height": 36
        },
        "id": "_XpBieOdoDcs",
        "outputId": "b679e8b6-9f21-485b-f5e5-7aa4e0a9b358"
      },
      "outputs": [],
      "source": [
        "from google.colab import userdata\n",
        "userdata.get('GEMINI_API_KEY')"
      ]
    },
    {
      "cell_type": "code",
      "execution_count": 18,
      "metadata": {
        "colab": {
          "base_uri": "https://localhost:8080/",
          "height": 583
        },
        "id": "756xYkCFmg05",
        "outputId": "a2fe53eb-ea03-4f69-aab6-d58d7e1b84e6"
      },
      "outputs": [
        {
          "name": "stdout",
          "output_type": "stream",
          "text": [
            "AI, or Artificial Intelligence, doesn't work like a human brain, but it attempts to mimic certain aspects of human intelligence.  There's no single \"how it works,\" as different AI systems use different techniques, but here's a breakdown of common approaches:\n",
            "\n",
            "**1. Machine Learning (ML):** This is the most prevalent approach.  Instead of being explicitly programmed, ML systems learn from data.  They identify patterns, make predictions, and improve their performance over time without explicit instructions.  Key concepts include:\n",
            "\n",
            "* **Training Data:**  A large dataset used to teach the AI.  For example, to recognize cats in images, you'd feed it thousands of cat pictures labeled \"cat.\"\n",
            "* **Algorithms:**  Mathematical formulas and procedures that analyze the data and extract patterns.  Different algorithms are suited for different tasks (e.g., classification, regression, clustering).\n",
            "* **Model:**  The output of the learning process.  This is a representation of the patterns found in the data, which can be used to make predictions on new, unseen data.\n",
            "* **Evaluation:**  Measuring the accuracy and performance of the model using metrics like accuracy, precision, and recall.  This helps to refine the model or choose better algorithms.\n",
            "\n",
            "**2. Deep Learning (DL):** A subset of ML that uses artificial neural networks with multiple layers (hence \"deep\"). These networks are inspired by the structure and function of the human brain, but are significantly simplified.  DL excels at processing complex data like images, audio, and text.  Examples include:\n",
            "\n",
            "* **Convolutional Neural Networks (CNNs):**  Excellent for image and video processing.\n",
            "* **Recurrent Neural Networks (RNNs):**  Good for sequential data like text and time series.\n",
            "* **Generative Adversarial Networks (GANs):**  Used to create new data that resembles the training data (e.g., generating realistic images).\n",
            "\n",
            "**3. Natural Language Processing (NLP):** Focuses on enabling computers to understand, interpret, and generate human language.  This involves techniques like:\n",
            "\n",
            "* **Tokenization:** Breaking down text into individual words or phrases.\n",
            "* **Part-of-speech tagging:** Identifying the grammatical role of each word.\n",
            "* **Sentiment analysis:** Determining the emotional tone of text.\n",
            "* **Machine translation:** Converting text from one language to another.\n",
            "\n",
            "**4. Computer Vision:**  Allows computers to \"see\" and interpret images and videos.  This often involves techniques from deep learning, such as CNNs, to identify objects, faces, and scenes within images.\n",
            "\n",
            "\n",
            "**In Simple Terms:** Imagine teaching a dog a trick.  Instead of explicitly telling it each step, you show it examples, reward it for correct behavior, and correct it when it's wrong.  ML is similar:  you feed the AI lots of data (examples), and it learns to identify patterns and make predictions based on that data.  Deep learning uses more complex structures to learn even more intricate patterns.\n",
            "\n",
            "\n",
            "**It's important to note:**  AI systems are not \"intelligent\" in the human sense.  They are sophisticated tools that can perform specific tasks extremely well, but they lack consciousness, common sense, and general intelligence.  Their performance is heavily dependent on the quality and quantity of the data they are trained on.\n",
            "\n"
          ]
        }
      ],
      "source": [
        "import google.generativeai as genai\n",
        "\n",
        "genai.configure(api_key= GEMINI_API_KEY )\n",
        "model = genai.GenerativeModel(\"gemini-1.5-flash\")\n",
        "response = model.generate_content(\"Explain how AI works\")\n",
        "print(response.text)"
      ]
    }
  ],
  "metadata": {
    "colab": {
      "provenance": []
    },
    "kernelspec": {
      "display_name": "Python 3",
      "name": "python3"
    },
    "language_info": {
      "name": "python"
    }
  },
  "nbformat": 4,
  "nbformat_minor": 0
}
